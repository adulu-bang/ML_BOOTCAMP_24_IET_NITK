{
  "cells": [
    {
      "cell_type": "markdown",
      "metadata": {
        "id": "wUnPWaBl8LTI"
      },
      "source": [
        "# 🧑‍🏫 Task 1 Part 1: Building a Spam Classifier with Naive Bayes\n",
        "In this exercise, you'll implement a spam classifier using the **Naive Bayes algorithm** . You'll work with email data to classify messages as spam or non-spam (ham). Follow the steps below and fill in the code where indicated.\n",
        "\n",
        "**Objective:** Implement all key components of an ML pipeline (except for data handling).\n",
        "\n",
        "**Allowed Libraries:** `pandas`, `numpy`\n",
        "\n",
        "**Not Allowed:** Any pre-built ML algorithms or functions like those from `sklearn`.\n",
        "\n",
        "Follow the instructions step-by-step and answer the questions!"
      ]
    },
    {
      "cell_type": "markdown",
      "metadata": {
        "id": "S7BVBhmu8LTO"
      },
      "source": [
        "## Step 1: Data Loading and Preprocessing\n",
        "First, let's load and examine our data."
      ]
    },
    {
      "cell_type": "code",
      "execution_count": null,
      "metadata": {
        "id": "6W84zs2E8LTP"
      },
      "outputs": [],
      "source": [
        "# Load the data\n",
        "# TODO: Load the 'emails.csv' file into a DataFrame called 'emails'\n",
        "emails = # Your code here"
      ]
    },
    {
      "cell_type": "code",
      "execution_count": null,
      "metadata": {
        "id": "9n6gSe8W8LTS"
      },
      "outputs": [],
      "source": [
        "# Display the first few rows\n",
        "print(emails.head())\n",
        "\n",
        "# HINT: Use pd.read_csv() to load the data\n",
        "# HINT: The DataFrame should have 'text' and 'spam' columns"
      ]
    },
    {
      "cell_type": "code",
      "execution_count": null,
      "metadata": {
        "id": "SM0rEVdo8LTT"
      },
      "outputs": [],
      "source": [
        "#Analyse the data and remove or modify rows with missing or invalid values"
      ]
    },
    {
      "cell_type": "markdown",
      "metadata": {
        "id": "NwUgBC_48LTU"
      },
      "source": [
        "## Step 2: Text Preprocessing\n",
        "We need to process each email to extract unique words."
      ]
    },
    {
      "cell_type": "code",
      "execution_count": null,
      "metadata": {
        "id": "XFeuQTWX8LTU"
      },
      "outputs": [],
      "source": [
        "def process_email(text):\n",
        "    \"\"\"\n",
        "    Convert email text to a list of unique, lowercase words\n",
        "\n",
        "    Parameters:\n",
        "        text (str): The email text\n",
        "\n",
        "    Returns:\n",
        "        list: List of unique words in the email\n",
        "    \"\"\"\n",
        "    # TODO: Implement the preprocessing function\n",
        "    # 1. Convert text to lowercase\n",
        "    # 2. Split into words\n",
        "    # 3. Remove duplicates\n",
        "\n",
        "    # Your code here\n",
        "\n",
        "    # HINT: Use text.lower() for lowercase conversion\n",
        "    # HINT: Use split() to convert text to words\n",
        "    # HINT: Use set() to remove duplicates\n",
        "    pass"
      ]
    },
    {
      "cell_type": "code",
      "execution_count": null,
      "metadata": {
        "id": "Izgjz8aO8LTV"
      },
      "outputs": [],
      "source": [
        "# Apply preprocessing to all emails\n"
      ]
    },
    {
      "cell_type": "code",
      "execution_count": null,
      "metadata": {
        "id": "C_nX98mC8LTV"
      },
      "outputs": [],
      "source": [
        "# Test your preprocessing by testing on the first email\n"
      ]
    },
    {
      "cell_type": "markdown",
      "metadata": {
        "id": "vDZNEFeM8LTW"
      },
      "source": [
        "## Step 3: Calculate Prior Probabilities\n",
        "Let's calculate the basic probability of an email being spam."
      ]
    },
    {
      "cell_type": "code",
      "execution_count": null,
      "metadata": {
        "id": "toaduEay8LTW"
      },
      "outputs": [],
      "source": [
        "# TODO: Calculate the following:\n",
        "# 1. Total number of emails\n",
        "# 2. Number of spam emails\n",
        "# 3. Probability of spam\n",
        "\n",
        "num_emails = # Your code here\n",
        "num_spam = # Your code here\n",
        "spam_probability = # Your code here\n",
        "\n",
        "print(f\"Number of emails: {num_emails}\")\n",
        "print(f\"Number of spam emails: {num_spam}\")\n",
        "print(f\"Probability of spam: {spam_probability:.4f}\")\n",
        "\n",
        "# HINT: Use len(emails) for total count\n",
        "# HINT: Use sum(emails['spam']) for spam count"
      ]
    },
    {
      "cell_type": "markdown",
      "metadata": {
        "id": "vFXYT2Qj8LTX"
      },
      "source": [
        "## Step 4: Training the Model\n",
        "Now we'll build our Naive Bayes model by counting word occurrences in spam and ham emails."
      ]
    },
    {
      "cell_type": "code",
      "execution_count": null,
      "metadata": {
        "id": "TpYO4Whu8LTX"
      },
      "outputs": [],
      "source": [
        "def train_naive_bayes(emails_data):\n",
        "    \"\"\"\n",
        "    Train a Naive Bayes model on email data\n",
        "\n",
        "    Parameters:\n",
        "        emails_data (DataFrame): DataFrame with 'words' and 'spam' columns\n",
        "\n",
        "    Returns:\n",
        "        dict: Dictionary with word frequencies in spam and ham emails\n",
        "    \"\"\"\n",
        "    # TODO: Create a dictionary to store word frequencies\n",
        "    # For each word, store counts of its occurrence in spam and ham emails\n",
        "    model = {}\n",
        "\n",
        "    # Your code here\n",
        "    # HINT: Initialize counts with 1 (Laplace smoothing)\n",
        "    # HINT: Structure: model[word] = {'spam': count, 'ham': count}\n",
        "\n",
        "    return model"
      ]
    },
    {
      "cell_type": "code",
      "execution_count": null,
      "metadata": {
        "id": "UmVc8syR8LTY"
      },
      "outputs": [],
      "source": [
        "model = train_naive_bayes(emails)"
      ]
    },
    {
      "cell_type": "code",
      "execution_count": null,
      "metadata": {
        "id": "b3E7QVoE8LTY"
      },
      "outputs": [],
      "source": [
        "# Test your model with some words\n",
        "# Examples: 'lottery', 'sale', 'meeting'\n",
        "\n"
      ]
    },
    {
      "cell_type": "markdown",
      "metadata": {
        "id": "w_e5btcz8LTZ"
      },
      "source": [
        "## Step 5: Implementing the Prediction Function\n",
        "Finally, let's implement the function to predict whether an email is spam."
      ]
    },
    {
      "cell_type": "code",
      "execution_count": null,
      "metadata": {
        "id": "JVJ95sJh8LTZ"
      },
      "outputs": [],
      "source": [
        "def predict_naive_bayes(email_text, model, num_spam, num_ham):\n",
        "    \"\"\"\n",
        "    Predict whether an email is spam using Naive Bayes\n",
        "\n",
        "    Parameters:\n",
        "        email_text (str): The text of the email to classify\n",
        "        model (dict): Trained Naive Bayes model\n",
        "        num_spam (int): Number of spam emails in training data\n",
        "        num_ham (int): Number of ham emails in training data\n",
        "\n",
        "    Returns:\n",
        "        float: Probability that the email is spam\n",
        "    \"\"\"\n",
        "    # TODO: Implement the Naive Bayes prediction\n",
        "    # 1. Preprocess the email text\n",
        "    # 2. Calculate probability using the Naive Bayes formula\n",
        "\n",
        "    # Your code here\n",
        "\n",
        "    # HINT: Use the log of probabilities to avoid numerical underflow\n",
        "    # HINT: Remember to handle words not in the training data\n",
        "    pass"
      ]
    },
    {
      "cell_type": "code",
      "execution_count": null,
      "metadata": {
        "id": "1cLva-HJ8LTZ"
      },
      "outputs": [],
      "source": [
        "# Test your prediction function\n",
        "test_emails = [\n",
        "    \"lottery winner claim prize money\",\n",
        "    \"meeting tomorrow at 3pm\",\n",
        "    \"buy cheap watches online\"\n",
        "]"
      ]
    },
    {
      "cell_type": "markdown",
      "metadata": {
        "id": "0YF2L52p8LTa"
      },
      "source": [
        "## Step 6: Wrap-up\n",
        "1. How well did your model perform?\n",
        "2. What challenges did you face while implementing it from scratch?\n",
        "3. What improvements would you suggest for the future?"
      ]
    },
    {
      "cell_type": "markdown",
      "metadata": {
        "id": "VDu0jh8X8LTa"
      },
      "source": [
        "### Notes (if any):"
      ]
    }
  ],
  "metadata": {
    "kernelspec": {
      "display_name": "Python 3",
      "language": "python",
      "name": "python3"
    },
    "language_info": {
      "name": "python"
    },
    "colab": {
      "provenance": []
    }
  },
  "nbformat": 4,
  "nbformat_minor": 0
}