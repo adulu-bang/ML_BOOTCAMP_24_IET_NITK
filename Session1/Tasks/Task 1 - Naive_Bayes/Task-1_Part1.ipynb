{
  "cells": [
    {
      "cell_type": "markdown",
      "metadata": {
        "id": "nfG-m2nt-oy5"
      },
      "source": [
        "# 🧑‍🏫 Task 1 Part 1: Building a Spam Classifier with Naive Bayes\n",
        "In this exercise, you'll implement a spam classifier using the **Naive Bayes algorithm** . You'll work with email data to classify messages as spam or non-spam (ham). Follow the steps below and fill in the code where indicated.\n",
        "\n",
        "**Objective:** Implement all key components of an ML pipeline (except for data handling).\n",
        "\n",
        "**Allowed Libraries:** `pandas`, `numpy`\n",
        "\n",
        "**Not Allowed:** Any pre-built ML algorithms or functions like those from `sklearn`.\n",
        "\n",
        "Follow the instructions step-by-step and answer the questions!"
      ]
    },
    {
      "cell_type": "markdown",
      "metadata": {
        "id": "JNRt6dEb-oy7"
      },
      "source": [
        "## Step 1: Data Loading and Preprocessing\n",
        "First, let's load and examine our data."
      ]
    },
    {
      "cell_type": "code",
      "execution_count": 11,
      "metadata": {
        "id": "uH3e0_1E-oy7"
      },
      "outputs": [],
      "source": [
        "# Load the data\n",
        "# TODO: Load the 'emails.csv' file into a DataFrame called 'emails'\n",
        "# Your code here\n",
        "import pandas as pd\n",
        "import numpy as np\n",
        "emails =  pd.read_csv(\"/content/emails.csv\")"
      ]
    },
    {
      "cell_type": "code",
      "execution_count": 5,
      "metadata": {
        "id": "c_rR5iMD-oy7",
        "outputId": "3b55d370-19b8-4a6a-e9ad-032f7cca38c1",
        "colab": {
          "base_uri": "https://localhost:8080/"
        }
      },
      "outputs": [
        {
          "output_type": "stream",
          "name": "stdout",
          "text": [
            "                                                text  spam\n",
            "0  Subject: naturally irresistible your corporate...     1\n",
            "1  Subject: the stock trading gunslinger  fanny i...     1\n",
            "2  Subject: unbelievable new homes made easy  im ...     1\n",
            "3  Subject: 4 color printing special  request add...     1\n",
            "4  Subject: do not have money , get software cds ...     1\n"
          ]
        }
      ],
      "source": [
        "# Display the first few rows\n",
        "print(emails.head())\n",
        "\n",
        "# HINT: Use pd.read_csv() to load the data\n",
        "# HINT: The DataFrame should have 'text' and 'spam' columns"
      ]
    },
    {
      "cell_type": "code",
      "execution_count": 10,
      "metadata": {
        "id": "Y4Px3Z4z-oy8",
        "outputId": "925918fa-8b39-4af2-95bf-8a0e5b3b4382",
        "colab": {
          "base_uri": "https://localhost:8080/"
        }
      },
      "outputs": [
        {
          "output_type": "stream",
          "name": "stdout",
          "text": [
            "text    0\n",
            "spam    0\n",
            "dtype: int64\n",
            "[1 0]\n"
          ]
        }
      ],
      "source": [
        "#Analyse the data and remove or modify rows with missing or invalid values\n",
        "# Check for missing values\n",
        "print(emails.isnull().sum())\n",
        "\n",
        "# Check for invalid values in 'spam' column(by seeing the unique values)\n",
        "print(emails['spam'].unique())\n",
        "\n",
        "# Example: Remove rows with missing values in 'text' column\n",
        "emails = emails.dropna(subset=['text'])\n",
        "\n",
        "# Example: Remove rows where 'spam' is not 0 or 1\n",
        "emails = emails[emails['spam'].isin([0, 1])]"
      ]
    },
    {
      "cell_type": "markdown",
      "metadata": {
        "id": "F8W-E9Hl-oy8"
      },
      "source": [
        "## Step 2: Text Preprocessing\n",
        "We need to process each email to extract unique words."
      ]
    },
    {
      "cell_type": "code",
      "execution_count": 12,
      "metadata": {
        "id": "6wKC1yVY-oy8"
      },
      "outputs": [],
      "source": [
        "def process_email(text):\n",
        "    \"\"\"\n",
        "    Convert email text to a list of unique, lowercase words\n",
        "\n",
        "    Parameters:\n",
        "        text (str): The email text\n",
        "\n",
        "    Returns:\n",
        "        list: List of unique words in the email\n",
        "    \"\"\"\n",
        "    # TODO: Implement the preprocessing function\n",
        "    # 1. Convert text to lowercase\n",
        "    # 2. Split into words\n",
        "    # 3. Remove duplicates\n",
        "\n",
        "    # Your code here\n",
        "\n",
        "    l_text= text.lower()\n",
        "    words = l_text.split()\n",
        "    unique_words = list(set(words))\n",
        "    return unique_words\n",
        "\n",
        "    # HINT: Use text.lower() for lowercase conversion\n",
        "    # HINT: Use split() to convert text to words\n",
        "    # HINT: Use set() to remove duplicates\n",
        "    pass"
      ]
    },
    {
      "cell_type": "code",
      "execution_count": 13,
      "metadata": {
        "id": "2Z1pNdcy-oy8"
      },
      "outputs": [],
      "source": [
        "# Apply preprocessing to all emails\n",
        "\n",
        "emails['words'] = emails['text'].apply(process_email)\n"
      ]
    },
    {
      "cell_type": "code",
      "execution_count": 14,
      "metadata": {
        "id": "jQeGlxO--oy8",
        "outputId": "557930f1-6e84-43dc-bdd4-c466dd62de35",
        "colab": {
          "base_uri": "https://localhost:8080/"
        }
      },
      "outputs": [
        {
          "output_type": "execute_result",
          "data": {
            "text/plain": [
              "['result',\n",
              " 'ciear',\n",
              " 'all',\n",
              " 'at',\n",
              " 'guaranteed',\n",
              " 'business',\n",
              " 'gaps',\n",
              " 'promptness',\n",
              " 'amount',\n",
              " 'benefits',\n",
              " 'here',\n",
              " 'organization',\n",
              " 'of',\n",
              " '%',\n",
              " 'recollect',\n",
              " 'company',\n",
              " 'website',\n",
              " 'ordered',\n",
              " \"'\",\n",
              " 'irresistible',\n",
              " 'much',\n",
              " 'it',\n",
              " 'isoverwhelminq',\n",
              " 'naturally',\n",
              " 'days',\n",
              " 'list',\n",
              " 'promise',\n",
              " 'content',\n",
              " 'identity',\n",
              " '100',\n",
              " 'practicable',\n",
              " 'your',\n",
              " 'marketing',\n",
              " 'within',\n",
              " 'stationery',\n",
              " 'provide',\n",
              " 'budget',\n",
              " 'are',\n",
              " 'full',\n",
              " 'collaboration',\n",
              " 'aim',\n",
              " 'three',\n",
              " 'statlonery',\n",
              " 'efforts',\n",
              " 'look',\n",
              " 'products',\n",
              " 'to',\n",
              " 'good',\n",
              " 'iogo',\n",
              " 'logos',\n",
              " 'corporate',\n",
              " 'outstanding',\n",
              " ';',\n",
              " 'make',\n",
              " 'use',\n",
              " ':',\n",
              " 'this',\n",
              " 'system',\n",
              " 'automaticaily',\n",
              " 'really',\n",
              " 'even',\n",
              " 'not',\n",
              " 'with',\n",
              " 'havinq',\n",
              " 'in',\n",
              " 'fees',\n",
              " 'extra',\n",
              " ',',\n",
              " 'changes',\n",
              " 'ieader',\n",
              " 'more',\n",
              " 'suqgestions',\n",
              " 'we',\n",
              " 'convenience',\n",
              " 'lt',\n",
              " 'easier',\n",
              " 'break',\n",
              " 'clear',\n",
              " 'be',\n",
              " 'subject:',\n",
              " 'reflect',\n",
              " 'affordability',\n",
              " 'effective',\n",
              " 'but',\n",
              " 'you',\n",
              " 'made',\n",
              " 'information',\n",
              " 'image',\n",
              " 'love',\n",
              " 'without',\n",
              " 'done',\n",
              " 'management',\n",
              " 'change',\n",
              " 'no',\n",
              " 'a',\n",
              " 'logo',\n",
              " 'nowadays',\n",
              " 'provided',\n",
              " 'hand',\n",
              " 'that',\n",
              " '_',\n",
              " 'surethat',\n",
              " 'stylish',\n",
              " 'structure',\n",
              " 'have',\n",
              " 'drafts',\n",
              " 'for',\n",
              " '-',\n",
              " 'satisfaction',\n",
              " 'the',\n",
              " 'hotat',\n",
              " 'portfolio',\n",
              " 'letsyou',\n",
              " 'our',\n",
              " 'hard',\n",
              " 'easy',\n",
              " 'do',\n",
              " 'catchy',\n",
              " 'interested',\n",
              " 'will',\n",
              " 't',\n",
              " 'world',\n",
              " 'its',\n",
              " 'distinctive',\n",
              " 'formats',\n",
              " 'task',\n",
              " 'isguite',\n",
              " 'become',\n",
              " 'market',\n",
              " 'specially',\n",
              " 'original',\n",
              " 'unlimited',\n",
              " 'is',\n",
              " 'through',\n",
              " 'shouldn',\n",
              " 'see',\n",
              " 'creativeness',\n",
              " 'and',\n",
              " '.']"
            ]
          },
          "metadata": {},
          "execution_count": 14
        }
      ],
      "source": [
        "# Test your preprocessing by testing on the first email\n",
        "emails['words'][0]"
      ]
    },
    {
      "cell_type": "markdown",
      "metadata": {
        "id": "Lpn71Dg1-oy8"
      },
      "source": [
        "## Step 3: Calculate Prior Probabilities\n",
        "Let's calculate the basic probability of an email being spam."
      ]
    },
    {
      "cell_type": "code",
      "execution_count": 15,
      "metadata": {
        "id": "_4OOLAFG-oy9",
        "outputId": "c0d4fa4e-6058-4b08-aee6-b313bf60027b",
        "colab": {
          "base_uri": "https://localhost:8080/"
        }
      },
      "outputs": [
        {
          "output_type": "stream",
          "name": "stdout",
          "text": [
            "Number of emails: 5728\n",
            "Number of spam emails: 1368\n",
            "Probability of spam: 0.2388\n"
          ]
        }
      ],
      "source": [
        "# TODO: Calculate the following:\n",
        "# 1. Total number of emails\n",
        "# 2. Number of spam emails\n",
        "# 3. Probability of spam\n",
        "\n",
        "num_emails = len(emails) # Your code here\n",
        "num_spam = sum(emails['spam'])# Your code here\n",
        "spam_probability = num_spam/num_emails # Your code here\n",
        "\n",
        "print(f\"Number of emails: {num_emails}\")\n",
        "print(f\"Number of spam emails: {num_spam}\")\n",
        "print(f\"Probability of spam: {spam_probability:.4f}\")\n",
        "\n",
        "# HINT: Use len(emails) for total count\n",
        "# HINT: Use sum(emails['spam']) for spam count"
      ]
    },
    {
      "cell_type": "markdown",
      "metadata": {
        "id": "3JxZMjmW-oy9"
      },
      "source": [
        "## Step 4: Training the Model\n",
        "Now we'll build our Naive Bayes model by counting word occurrences in spam and ham emails."
      ]
    },
    {
      "cell_type": "code",
      "execution_count": null,
      "metadata": {
        "id": "csaApgH_-oy9"
      },
      "outputs": [],
      "source": [
        "def train_naive_bayes(emails_data):\n",
        "    \"\"\"\n",
        "    Train a Naive Bayes model on email data\n",
        "\n",
        "    Parameters:\n",
        "        emails_data (DataFrame): DataFrame with 'words' and 'spam' columns\n",
        "\n",
        "    Returns:\n",
        "        dict: Dictionary with word frequencies in spam and ham emails\n",
        "    \"\"\"\n",
        "    # TODO: Create a dictionary to store word frequencies\n",
        "    # For each word, store counts of its occurrence in spam and ham emails\n",
        "    model = {}\n",
        "\n",
        "    # Your code here\n",
        "    # HINT: Initialize counts with 1 (Laplace smoothing)\n",
        "    # HINT: Structure: model[word] = {'spam': count, 'ham': count}\n",
        "\n",
        "    return model"
      ]
    },
    {
      "cell_type": "code",
      "execution_count": null,
      "metadata": {
        "id": "NyV8LrcA-oy9"
      },
      "outputs": [],
      "source": [
        "# Test your model with some words\n",
        "# Examples: 'lottery', 'sale', 'meeting'\n",
        "\n"
      ]
    },
    {
      "cell_type": "markdown",
      "metadata": {
        "id": "byGj8m9T-oy9"
      },
      "source": [
        "## Step 5: Implementing the Prediction Function\n",
        "Finally, let's implement the function to predict whether an email is spam."
      ]
    },
    {
      "cell_type": "code",
      "execution_count": null,
      "metadata": {
        "id": "De2b4hSU-oy9"
      },
      "outputs": [],
      "source": [
        "def predict_naive_bayes(email_text, model, num_spam, num_ham):\n",
        "    \"\"\"\n",
        "    Predict whether an email is spam using Naive Bayes\n",
        "\n",
        "    Parameters:\n",
        "        email_text (str): The text of the email to classify\n",
        "        model (dict): Trained Naive Bayes model\n",
        "        num_spam (int): Number of spam emails in training data\n",
        "        num_ham (int): Number of ham emails in training data\n",
        "\n",
        "    Returns:\n",
        "        float: Probability that the email is spam\n",
        "    \"\"\"\n",
        "    # TODO: Implement the Naive Bayes prediction\n",
        "    # 1. Preprocess the email text\n",
        "    # 2. Calculate probability using the Naive Bayes formula\n",
        "\n",
        "    # Your code here\n",
        "\n",
        "    # HINT: Use the log of probabilities to avoid numerical underflow\n",
        "    # HINT: Remember to handle words not in the training data\n",
        "    pass"
      ]
    },
    {
      "cell_type": "code",
      "execution_count": null,
      "metadata": {
        "id": "iu5KMTYi-oy9"
      },
      "outputs": [],
      "source": [
        "# Test your prediction function\n",
        "test_emails = [\n",
        "    \"lottery winner claim prize money\",\n",
        "    \"meeting tomorrow at 3pm\",\n",
        "    \"buy cheap watches online\"\n",
        "]"
      ]
    },
    {
      "cell_type": "markdown",
      "metadata": {
        "id": "ENKH73IE-oy9"
      },
      "source": [
        "## Step 6: Wrap-up\n",
        "1. How well did your model perform?\n",
        "2. What challenges did you face while implementing it from scratch?\n",
        "3. What improvements would you suggest for the future?"
      ]
    },
    {
      "cell_type": "markdown",
      "metadata": {
        "id": "8lcsdbah-oy-"
      },
      "source": [
        "### Notes (if any):"
      ]
    }
  ],
  "metadata": {
    "kernelspec": {
      "display_name": "Python 3",
      "language": "python",
      "name": "python3"
    },
    "language_info": {
      "name": "python"
    },
    "colab": {
      "provenance": []
    }
  },
  "nbformat": 4,
  "nbformat_minor": 0
}